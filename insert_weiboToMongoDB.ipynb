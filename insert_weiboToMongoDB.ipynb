{
 "cells": [
  {
   "cell_type": "code",
   "execution_count": null,
   "metadata": {},
   "outputs": [],
   "source": [
    "# -*- coding: utf-8 -*-\n",
    "# @Author: di.W\n",
    "# @Date: 2018-09-28 19:12:25\n",
    "# @Last Modified by:   di.W\n",
    "# @Last Modified time: 2018-09-28 19:12:25\n",
    "# @Description:  */\n",
    "from pymongo import MongoClient\n",
    "import topic_sta1\n",
    "from time import time\n",
    "\n",
    "threshold = 200\n",
    "conn = MongoClient('127.0.0.1', \n",
    "                   27017,\n",
    "                   username='wd',\n",
    "                   password='wd123456',\n",
    "                  )\n",
    "db = conn.weiboDB  #连接mydb数据库，没有则自动创建\n",
    "\n",
    "weibofilefolder = 'D:/chinadream/data'\n",
    "allfile = topic_sta1.getAllFile(weibofilefolder)\n",
    "print(allfile)\n",
    "for current_file in allfile:\n",
    "        collection_name = topic_sta1.getFileTime(current_file)\n",
    "        print(collection_name)\n",
    "        current_collection = db[collection_name]\n",
    "        with open(current_file, 'r', encoding='utf-8') as f:\n",
    "            list_toinsert = []\n",
    "            for line in f:\n",
    "                line_section = line.split('\\t')\n",
    "                keyword_list = topic_sta1.getKeywordList(line_section)\n",
    "                # print(keyword_list)\n",
    "                json_data = line_section[-1].strip()\n",
    "                for keyword in keyword_list:\n",
    "                    keyword = keyword.replace(',','')\n",
    "                    data_toinsert ={\n",
    "                        'keyword': keyword,\n",
    "                        'json_data': json_data\n",
    "                    }\n",
    "                    list_toinsert.append(data_toinsert)\n",
    "                    \n",
    "                    if(len(list_toinsert) == threshold):\n",
    "                        result = current_collection.insert_many(list_toinsert)\n",
    "                        list_toinsert = []\n",
    "                        print(result)\n",
    "            if(len(list_toinsert) > 0):\n",
    "                result = current_collection.insert_many(list_toinsert)\n",
    "                list_toinsert = []\n",
    "                print(result)\n",
    "                    "
   ]
  },
  {
   "cell_type": "code",
   "execution_count": null,
   "metadata": {},
   "outputs": [],
   "source": []
  },
  {
   "cell_type": "code",
   "execution_count": null,
   "metadata": {},
   "outputs": [],
   "source": []
  }
 ],
 "metadata": {
  "kernelspec": {
   "display_name": "python36_ltp",
   "language": "python",
   "name": "python36_ltp"
  },
  "language_info": {
   "codemirror_mode": {
    "name": "ipython",
    "version": 3
   },
   "file_extension": ".py",
   "mimetype": "text/x-python",
   "name": "python",
   "nbconvert_exporter": "python",
   "pygments_lexer": "ipython3",
   "version": "3.6.5"
  }
 },
 "nbformat": 4,
 "nbformat_minor": 2
}
